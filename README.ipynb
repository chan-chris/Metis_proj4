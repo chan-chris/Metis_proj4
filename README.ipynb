{
 "cells": [
  {
   "cell_type": "markdown",
   "metadata": {},
   "source": [
    "## A Psychoanalysis of George Costanza using NLP\n",
    "Readme.md\n",
    "\n",
    "**Date:**\n",
    "02/19/2021\n",
    "\n",
    "**Description:**<br>\n",
    "The purpose of this project was to perform topic modeling and sentiment analysis on the TV show Seinfeld, specifically on one of the main characters, George Costanza.\n",
    "<br>\n",
    "**Data:**<br>\n",
    "The data I used was publicly avaialble on Kaggle:<br>\n",
    "https://www.kaggle.com/thec03u5/seinfeld-chronicles\n",
    "These files contained the transcripts for all 9 seasons (173 episodes) of the Seinfeld show. Each 'document' was a character's line per episode.<br>\n",
    "For sentiment/emotion analysis, I used the NRC word-emotion association lexicon which is also publicly available and widely used in research:<br>\n",
    "http://web.stanford.edu/class/cs124/NRC-emotion-lexicon-wordlevel-alphabetized-v0.92.txt\n",
    "<br>\n",
    "**Features and Target Variables:**<br>\n",
    "Given this was an unsupervised learning analysis, there were no target features. The data used was text data and general processes included the following:\n",
    "<br>\n",
    "Data cleaning and pre-processing:\n",
    "\t. count vectorize\n",
    "\t. lemmatize\n",
    "\t. EDA \n",
    "\t. topic modeling\n",
    "\t. sentiment/emotion analysis  \n",
    "<br>\n",
    "**Programs:**<br>\n",
    "This analysis was very exploratory in nature therefore programs journey through different approaches for analysis, some of which was not used in the final presentation. The primary program is 03_seinfeld_costanza.ipynb. as this contained much of the content found in the final presentation. A brief explanation of the programs are as follows:\n",
    "<br>\n",
    "**. 01_seinfeld_all_chars.ipynb**<br>\n",
    "\t. This program looks at all lines from all characters of the tv scripts. The idea was to try and glean topics of the show based on an 'episode' as a single document. <br>\n",
    "\t. Primary visuals used from this program are for total line counts per character across seasons as well as total mentions of character names across seasons<br>\n",
    "\t. The topic models did not yield very distinctive themes. This could be due to the resolution of the documents being parsed at the episode level.<br> \n",
    "**. 02_seinfeld_main_chars.ipynb**<br>\n",
    "\t. This program attempted to analyze the 4 main characters only. I took a similar approach as in the previous program.<br>\n",
    "\t. Again topic modeling did not yeild the results I was hoping for and therefore I decided to focus on one character in the latter program<br>\n",
    "\t. No visuals from this program were used in the final presentation<br>\n",
    "    <br>\n",
    "**. 03_seinfeld_costanza.ipynb**<br>\n",
    "\t. This was the primary program of analysis and presentation.<br>\n",
    "\t. data cleaning and pre-processing were used and then filtered down to the character George Costanza's lines only. Each document was an aggregate of George's lines per episode<br>\n",
    "\t. Topic modeling was performed and yielded 4 main topics:<br>\n",
    "\t\t\t. Dating, relationships, sex<br>\n",
    "\t\t\t. Episodes focusing on outings and events<br>\n",
    "\t\t\t. Jobs, occupation, ideas, schemes<br>\n",
    "\t\t\t. Family, Friends, food<br>\n",
    "\t. Sentiment / Emotion analysis<br>\n",
    "\t\t\t. Using the NRC emotion lexicon I flagged each word where that was identified as one of 8 emotions or positive or negative sentiments<br>\n",
    "\t. Visualizations include:<br>\n",
    "\t\t. frequency of emotion-specific words across all seasons<br>\n",
    "\t\t. pairing of the distribution of emotions/sentiment by topic<br>\n",
    "\t\t. word clouds for pos/neg sentiment<br>\n",
    "<br>\n",
    "**Summary:**<br>\n",
    "The character of George Costanza is that he is largely a divided man in terms of what brings out strong emotions. For example, dating and relationships bring about the most anger and joy out of George (literally a love/hate relationship with love). \n",
    "<br>\n",
    "It was eye-opening to see that his character increase in Positive sentiment over the seasons whereas his negative sentiment stayed flat. This may not be obvious at first glance but perhaps looking at the later seasons will reveal George's upbeat nature - perhaps (morbidly) after his fiance susan dies and he is free from commitment. \n",
    "<br>\n",
    "Another interesting find is that his negative sentiment could be related to his family. We know his relationship with his parents is often portrayed as dysfunctional to say the least. This stands out more having looked at the results of the analysis.\n"
   ]
  },
  {
   "cell_type": "markdown",
   "metadata": {},
   "source": []
  }
 ],
 "metadata": {
  "kernelspec": {
   "display_name": "Python 3",
   "language": "python",
   "name": "python3"
  },
  "language_info": {
   "codemirror_mode": {
    "name": "ipython",
    "version": 3
   },
   "file_extension": ".py",
   "mimetype": "text/x-python",
   "name": "python",
   "nbconvert_exporter": "python",
   "pygments_lexer": "ipython3",
   "version": "3.8.5"
  }
 },
 "nbformat": 4,
 "nbformat_minor": 4
}
